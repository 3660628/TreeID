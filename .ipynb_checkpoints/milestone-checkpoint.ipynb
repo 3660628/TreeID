{
 "metadata": {
  "name": "",
  "signature": "sha256:e431129335a478f89967aea4ea902b489d3a7f8724b1b239ad0131fe018ffb71"
 },
 "nbformat": 3,
 "nbformat_minor": 0,
 "worksheets": [
  {
   "cells": [
    {
     "cell_type": "code",
     "collapsed": false,
     "input": [
      "# As usual, a bit of setup\n",
      "\n",
      "import numpy as np\n",
      "import matplotlib.pyplot as plt\n",
      "from cs231n.classifier_trainer import ClassifierTrainer\n",
      "from cs231n.gradient_check import eval_numerical_gradient\n",
      "from cs231n.classifiers.convnet import *\n",
      "\n",
      "%matplotlib inline\n",
      "plt.rcParams['figure.figsize'] = (10.0, 8.0) # set default size of plots\n",
      "plt.rcParams['image.interpolation'] = 'nearest'\n",
      "plt.rcParams['image.cmap'] = 'gray'\n",
      "\n",
      "# for auto-reloading external modules\n",
      "# see http://stackoverflow.com/questions/1907993/autoreload-of-modules-in-ipython\n",
      "%load_ext autoreload\n",
      "%autoreload 2\n",
      "\n",
      "def rel_error(x, y):\n",
      "  \"\"\" returns relative error \"\"\"\n",
      "  return np.max(np.abs(x - y) / (np.maximum(1e-8, np.abs(x) + np.abs(y))))"
     ],
     "language": "python",
     "metadata": {},
     "outputs": [],
     "prompt_number": 1
    },
    {
     "cell_type": "code",
     "collapsed": false,
     "input": [
      "#Proof of concept - Doing it for the Top 10 species\n",
      "from cs231n.data_utils import load_tiny_imagenet\n",
      "\n",
      "top10 = 'top10'\n",
      "class_names, X_train, y_train, X_val, y_val, X_test, y_test = load_tiny_imagenet(top10)\n",
      "\n",
      "# Zero-mean the data\n",
      "mean_img = np.mean(X_train, axis=0)\n",
      "X_train -= mean_img\n",
      "X_val -= mean_img\n",
      "X_test -= mean_img\n",
      "\n",
      "# Transpose so that channels come first\n",
      "# X_train = X_train.transpose(0, 3, 1, 2).copy()\n",
      "# X_val = X_val.transpose(0, 3, 1, 2).copy()\n",
      "x_test = X_test.transpose(0, 3, 1, 2).copy()\n",
      "\n",
      "print 'Train data shape: ', X_train.shape\n",
      "print 'Train labels shape: ', y_train.shape\n",
      "print 'Validation data shape: ', X_val.shape\n",
      "print 'Validation labels shape: ', y_val.shape\n",
      "print 'Test data shape: ', X_test.shape"
     ],
     "language": "python",
     "metadata": {},
     "outputs": [
      {
       "output_type": "stream",
       "stream": "stdout",
       "text": [
        "Train data shape:  (238, 400, 3, 400)\n",
        "Train labels shape:  (238,)\n",
        "Validation data shape:  (33, 400, 3, 400)\n",
        "Validation labels shape:  (33,)\n",
        "Test data shape:  (33, 3, 400, 400)\n"
       ]
      }
     ],
     "prompt_number": 40
    },
    {
     "cell_type": "code",
     "collapsed": false,
     "input": [],
     "language": "python",
     "metadata": {},
     "outputs": []
    }
   ],
   "metadata": {}
  }
 ]
}