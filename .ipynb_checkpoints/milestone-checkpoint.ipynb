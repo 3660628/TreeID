{
 "metadata": {
  "name": "",
  "signature": "sha256:e67801ee44709d6308e2c875f76016b0d0522732300edd9c49599bbe484015ba"
 },
 "nbformat": 3,
 "nbformat_minor": 0,
 "worksheets": [
  {
   "cells": [
    {
     "cell_type": "code",
     "collapsed": false,
     "input": [
      "# As usual, a bit of setup\n",
      "\n",
      "import numpy as np\n",
      "import matplotlib.pyplot as plt\n",
      "from cs231n.classifier_trainer import ClassifierTrainer\n",
      "from cs231n.gradient_check import eval_numerical_gradient\n",
      "from cs231n.classifiers.convnet import *\n",
      "\n",
      "%matplotlib inline\n",
      "plt.rcParams['figure.figsize'] = (10.0, 8.0) # set default size of plots\n",
      "plt.rcParams['image.interpolation'] = 'nearest'\n",
      "plt.rcParams['image.cmap'] = 'gray'\n",
      "\n",
      "# for auto-reloading external modules\n",
      "# see http://stackoverflow.com/questions/1907993/autoreload-of-modules-in-ipython\n",
      "%load_ext autoreload\n",
      "%autoreload 2\n",
      "\n",
      "def rel_error(x, y):\n",
      "  \"\"\" returns relative error \"\"\"\n",
      "  return np.max(np.abs(x - y) / (np.maximum(1e-8, np.abs(x) + np.abs(y))))"
     ],
     "language": "python",
     "metadata": {},
     "outputs": [],
     "prompt_number": 1
    },
    {
     "cell_type": "code",
     "collapsed": false,
     "input": [
      "#Proof of concept - Doing it for the Top 10 species\n",
      "from cs231n.data_utils import load_tiny_imagenet\n",
      "\n",
      "top50 = 'top50'\n",
      "class_names, X_train, y_train, X_val, y_val = load_tiny_imagenet(top50)\n",
      "\n",
      "# Zero-mean the data\n",
      "mean_img = np.mean(X_train, axis=0)\n",
      "X_train -= mean_img\n",
      "X_val -= mean_img\n",
      "\n",
      "# Transpose so that channels come first\n",
      "# X_train = X_train.transpose(0, 3, 1, 2).copy()\n",
      "# X_val = X_val.transpose(0, 3, 1, 2).copy()\n",
      "#X_test = X_test.transpose(0, 3, 1, 2).copy()\n",
      "\n",
      "print 'Train data shape: ', X_train.shape\n",
      "print 'Train labels shape: ', y_train.shape\n",
      "print 'Validation data shape: ', X_val.shape\n",
      "print 'Validation labels shape: ', y_val.shape\n"
     ],
     "language": "python",
     "metadata": {},
     "outputs": [
      {
       "output_type": "stream",
       "stream": "stdout",
       "text": [
        " Train data shape:  (171, 3, 200, 200)\n",
        "Train labels shape:  (171,)\n",
        "Validation data shape:  (80, 3, 200, 200)\n",
        "Validation labels shape:  (80,)\n"
       ]
      }
     ],
     "prompt_number": 27
    },
    {
     "cell_type": "code",
     "collapsed": false,
     "input": [
      "from cs231n.classifiers.convnet import init_three_layer_convnet\n",
      "\n",
      "best_models = {}\n",
      "best_model_final = None \n",
      "best_val_acc = -1.0\n",
      "best_train_acc = -1.0\n",
      "\n",
      "for lr in [0.0005]:\n",
      "    for r in [0.001]:\n",
      "        print \"Three layer, lr = \" + str(lr) + \" , reg = \" + str(r)\n",
      "        model = init_three_layer_convnet(filter_size=5)\n",
      "        trainer = ClassifierTrainer()\n",
      "        best_model, loss_history, train_acc_history, val_acc_history = trainer.train(\n",
      "                                                            X_train, y_train, X_val, y_val, model, three_layer_convnet,\n",
      "                                                            reg=r, momentum=0.9, learning_rate=lr, batch_size=100, num_epochs=3,\n",
      "                                                            acc_frequency=50, verbose=True)\n",
      "\n",
      "        lr_reg = str(lr) + \" \" + str(r) + \" three_layer\"\n",
      "\n",
      "        best_models[lr_reg] = (best_model, loss_history, train_acc_history, val_acc_history)\n",
      "\n",
      "        curr_val_acc = np.max(val_acc_history)\n",
      "        curr_val_acc_index = np.argmax(val_acc_history)\n",
      "        print \"Validation accuracy = \" + str(curr_val_acc)\n",
      "        if curr_val_acc > best_val_acc:\n",
      "            best_val_acc = curr_val_acc\n",
      "            best_model_final = best_model\n",
      "            best_train_acc = train_acc_history[curr_val_acc_index]\n"
     ],
     "language": "python",
     "metadata": {},
     "outputs": [
      {
       "output_type": "stream",
       "stream": "stdout",
       "text": [
        "Three layer, lr = 0.0005 , reg = 0.001\n",
        "starting iteration "
       ]
      },
      {
       "output_type": "stream",
       "stream": "stdout",
       "text": [
        " 0\n",
        "Finished epoch 0 / 3: cost 2.303376, train: 0.157895, val 0.287500, lr 5.000000e-04"
       ]
      },
      {
       "output_type": "stream",
       "stream": "stdout",
       "text": [
        "\n",
        "Finished epoch 1 / 3: cost 2.302919, train: 0.204678, val 0.337500, lr 4.750000e-04"
       ]
      },
      {
       "output_type": "stream",
       "stream": "stdout",
       "text": [
        "\n",
        "Finished epoch 2 / 3: cost 2.302633, train: 0.233918, val 0.325000, lr 4.512500e-04"
       ]
      },
      {
       "output_type": "stream",
       "stream": "stdout",
       "text": [
        "\n",
        "finished optimization. best validation accuracy: 0.337500\n",
        "Validation accuracy = 0.3375\n"
       ]
      }
     ],
     "prompt_number": 28
    },
    {
     "cell_type": "code",
     "collapsed": false,
     "input": [],
     "language": "python",
     "metadata": {},
     "outputs": []
    }
   ],
   "metadata": {}
  }
 ]
}